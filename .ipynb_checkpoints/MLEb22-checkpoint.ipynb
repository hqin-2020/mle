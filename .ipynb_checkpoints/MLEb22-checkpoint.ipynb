{
 "cells": [
  {
   "cell_type": "code",
   "execution_count": null,
   "id": "d295e34a",
   "metadata": {},
   "outputs": [
    {
     "name": "stdout",
     "output_type": "stream",
     "text": [
      " 50%|██████████████████████▌                      | 1/2 [00:22<00:22, 22.62s/it]"
     ]
    }
   ],
   "source": [
    "!python datapoints_small.py"
   ]
  },
  {
   "cell_type": "code",
   "execution_count": 1,
   "id": "03e8c90c",
   "metadata": {},
   "outputs": [],
   "source": [
    "import numpy as np\n",
    "import scipy as sp\n",
    "import matplotlib.pyplot as plt\n",
    "import seaborn as sns\n",
    "import pandas as pd\n",
    "from tqdm import tqdm\n",
    "import pickle\n",
    "import warnings\n",
    "warnings.simplefilter('ignore')\n",
    "seed = 1\n",
    "from concurrent.futures import ProcessPoolExecutor\n",
    "np.set_printoptions(suppress = True)\n",
    "pd.set_option('display.float_format', lambda x: '%.3f' % x)\n",
    "from optimize import *"
   ]
  },
  {
   "cell_type": "code",
   "execution_count": 2,
   "id": "944fee31",
   "metadata": {},
   "outputs": [],
   "source": [
    "T = 300\n",
    "\n",
    "λ, η = 0.5, 0\n",
    "b11, b21 = 1, 0.5 \n",
    "\n",
    "As11, As12, As13, As14 = 0.9, 0.0, 0.0, 0\n",
    "As21, As22, As23, As24 = 0.0, 0.8, 0.0, 0\n",
    "As31, As32, As33, As34 = 0.0, 0.0, 0.7, 0\n",
    "\n",
    "Bs11, Bs21, Bs22, Bs31, Bs32, Bs33 = 4, 0, 3, 0, 0, 2\n",
    "\n",
    "Az_true = np.array([[1, 1, 0],\\\n",
    "                    [0, λ, η],\\\n",
    "                    [0, 0, 1]])\n",
    "Bz_true = np.array([[b11],\\\n",
    "                    [b21],\\\n",
    "                    [0]])\n",
    "As_true = np.array([[As11, As12, As13, As14],\\\n",
    "                    [As21, As22, As23, As24],\\\n",
    "                    [As31, As32, As33, As34],\\\n",
    "                    [0.0,  0.0,  0.0,  1.0]])\n",
    "Bs_true = np.array([[Bs11, 0.0,  0.0],\\\n",
    "                    [Bs21, Bs22, 0.0],\\\n",
    "                    [Bs31, Bs32, Bs33],\\\n",
    "                    [0.0,  0.0,  0.0]])\n",
    "\n",
    "ones = np.ones([3,1])\n",
    "\n",
    "θ = np.array([λ, η, \\\n",
    "              b11, b21, \\\n",
    "              As11, As12, As13, As14, \\\n",
    "              As21, As22, As23, As24, \\\n",
    "              As31, As32, As33, As34, \\\n",
    "              Bs11, Bs21, Bs22, Bs31, Bs32, Bs33])"
   ]
  },
  {
   "cell_type": "code",
   "execution_count": 3,
   "id": "6df1e6cf",
   "metadata": {},
   "outputs": [],
   "source": [
    "def sim_VAR(A, B, X0, shock_num, T):\n",
    "\n",
    "    X_series = np.zeros([X0.shape[0], T+1])\n",
    "    X_series[:, [0]]= X0\n",
    "\n",
    "    W_series = np.random.multivariate_normal(np.zeros(shock_num), np.diag(np.ones(shock_num)), [T+1]).T\n",
    "\n",
    "    for t in range(T):\n",
    "        X_series[:,[t+1]] = A @ X_series[:,[t]] + B @ W_series[:,[t+1]]\n",
    "\n",
    "    return X_series, W_series\n",
    "\n",
    "def sim_obs(As_true, Bs_true, η, λ, b21):\n",
    "\n",
    "    μs = sp.linalg.solve(np.eye(3) - As_true[0:3,0:3], As_true[0:3,3:4])\n",
    "    Σs = sp.linalg.solve_discrete_lyapunov(As_true[0:3,0:3], Bs_true[0:3,0:3]@Bs_true[0:3,0:3].T)\n",
    "\n",
    "    μz01 = 0\n",
    "    Σz01 = 100\n",
    "    Z01 = np.random.normal(μz01, Σz01)\n",
    "\n",
    "    μz02 = η/(1-λ)\n",
    "    Σz02 = b21**2/(1-λ**2)\n",
    "    Z02 = np.random.normal(μz02, Σz02)\n",
    "\n",
    "    Z0_true = np.array([[Z01],[Z02],[1]])\n",
    "    S0_true = np.append(np.random.multivariate_normal(μs.flatten(), Σs),np.array(1)).reshape([-1,1])\n",
    "\n",
    "    Z_series, Wz = sim_VAR(Az_true, Bz_true, Z0_true, 1, T)\n",
    "    S_series, Ws = sim_VAR(As_true, Bs_true, S0_true, 3, T)\n",
    "    obs_series = ones@Z_series[[0],:] + S_series[0:3,:]\n",
    "    \n",
    "    return obs_series"
   ]
  },
  {
   "cell_type": "code",
   "execution_count": 4,
   "id": "b837e889",
   "metadata": {},
   "outputs": [],
   "source": [
    "np.random.seed(seed)\n",
    "data_points = 5\n",
    "start_trials = 10\n",
    "obs_list = []\n",
    "for i in range(data_points):\n",
    "    obs = sim_obs(As_true, Bs_true, η, λ, b21)\n",
    "    obs_series = [obs for _ in range(start_trials)] \n",
    "    obs_list.append(obs_series)"
   ]
  },
  {
   "cell_type": "code",
   "execution_count": 5,
   "id": "8dc8f968",
   "metadata": {},
   "outputs": [
    {
     "name": "stderr",
     "output_type": "stream",
     "text": [
      "100%|███████████████████████████████████████████████████████████████████████████████████████████████████████████████████████████████████████████████████████████████████████| 5/5 [02:39<00:00, 31.98s/it]\n"
     ]
    }
   ],
   "source": [
    "batch = []\n",
    "for i in tqdm(range(data_points)):\n",
    "    with ProcessPoolExecutor() as pool:\n",
    "        results = pool.map(optimization, obs_list[i])\n",
    "    results = [r for r in results]\n",
    "    batch.append(results)"
   ]
  },
  {
   "cell_type": "code",
   "execution_count": 6,
   "id": "7ab02684",
   "metadata": {},
   "outputs": [],
   "source": [
    "with open('MLE_'+str(seed)+'.pkl', 'wb') as f:\n",
    "       pickle.dump(batch, f)"
   ]
  },
  {
   "cell_type": "code",
   "execution_count": 11,
   "id": "4ce5c42a",
   "metadata": {},
   "outputs": [],
   "source": [
    "with open('MLE_'+str(84821)+'.pkl', 'rb') as f:\n",
    "    temp = pickle.load(f)"
   ]
  },
  {
   "cell_type": "code",
   "execution_count": 12,
   "id": "40a35007",
   "metadata": {},
   "outputs": [
    {
     "data": {
      "text/plain": [
       "2"
      ]
     },
     "execution_count": 12,
     "metadata": {},
     "output_type": "execute_result"
    }
   ],
   "source": [
    "len(temp)"
   ]
  },
  {
   "cell_type": "code",
   "execution_count": 13,
   "id": "9dcf7e1f",
   "metadata": {},
   "outputs": [
    {
     "data": {
      "text/plain": [
       "[nan, nan, nan, nan, nan, nan, nan, nan, nan, nan, nan, nan, nan, nan]"
      ]
     },
     "execution_count": 13,
     "metadata": {},
     "output_type": "execute_result"
    }
   ],
   "source": [
    "[i[0].fun for i in temp[1]]"
   ]
  },
  {
   "cell_type": "code",
   "execution_count": null,
   "id": "ab28402b",
   "metadata": {},
   "outputs": [],
   "source": []
  },
  {
   "cell_type": "code",
   "execution_count": null,
   "id": "e1a4bd39",
   "metadata": {},
   "outputs": [],
   "source": []
  }
 ],
 "metadata": {
  "kernelspec": {
   "display_name": "Python 3 (ipykernel)",
   "language": "python",
   "name": "python3"
  },
  "language_info": {
   "codemirror_mode": {
    "name": "ipython",
    "version": 3
   },
   "file_extension": ".py",
   "mimetype": "text/x-python",
   "name": "python",
   "nbconvert_exporter": "python",
   "pygments_lexer": "ipython3",
   "version": "3.9.12"
  }
 },
 "nbformat": 4,
 "nbformat_minor": 5
}
